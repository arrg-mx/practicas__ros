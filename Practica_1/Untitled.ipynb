{
 "cells": [
  {
   "cell_type": "markdown",
   "id": "0f0f3266-1453-4b1d-ab85-e51d6a0da9a1",
   "metadata": {},
   "source": [
    "\n",
    "# Ejemplo\n",
    "\n",
    "\n",
    "\n",
    "## listas\n",
    "\n",
    "\n",
    "- elemento 1\n",
    "- elemento 2\n",
    "\n",
    "\n",
    "1. elemento 1\n",
    "2. elemento 2\n",
    "\n"
   ]
  },
  {
   "cell_type": "markdown",
   "id": "9995b150-3287-490b-b4a4-680667426c7a",
   "metadata": {},
   "source": [
    "# Ecuaciones\n",
    "\n",
    "Referencia de ecuaciones dentro de un texto $\\cos(\\frac{\\pi}{2})$ completo.\n",
    "\n",
    "$$\n",
    "\\cos(\\frac{\\pi}{2})\n",
    "$$\n",
    "\n"
   ]
  },
  {
   "cell_type": "markdown",
   "id": "71c933c6-a74c-4452-9c8c-6402b7f4b0ab",
   "metadata": {},
   "source": [
    "# Codigo\n",
    "\n",
    "Ejemplo de documentación de código:\n",
    "\n",
    "```python\n",
    "\n",
    "print(\"Hola mundo\")\n",
    "\n",
    "```\n",
    "\n",
    "```cpp\n",
    "#include \n",
    "\n",
    "\n",
    "```\n"
   ]
  },
  {
   "cell_type": "code",
   "execution_count": 1,
   "id": "4184fd9e-82a9-4ee7-b2c5-e67484bbf6c6",
   "metadata": {},
   "outputs": [
    {
     "name": "stdout",
     "output_type": "stream",
     "text": [
      "Hola Mundo\n"
     ]
    }
   ],
   "source": [
    "print(\"Hola Mundo\")"
   ]
  },
  {
   "cell_type": "code",
   "execution_count": null,
   "id": "0359de92-ce5e-43d6-a239-0926e0b8b973",
   "metadata": {},
   "outputs": [],
   "source": []
  }
 ],
 "metadata": {
  "kernelspec": {
   "display_name": "Python 3 (ipykernel)",
   "language": "python",
   "name": "python3"
  },
  "language_info": {
   "codemirror_mode": {
    "name": "ipython",
    "version": 3
   },
   "file_extension": ".py",
   "mimetype": "text/x-python",
   "name": "python",
   "nbconvert_exporter": "python",
   "pygments_lexer": "ipython3",
   "version": "3.10.12"
  }
 },
 "nbformat": 4,
 "nbformat_minor": 5
}
